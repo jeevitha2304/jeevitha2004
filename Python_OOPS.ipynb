{
  "nbformat": 4,
  "nbformat_minor": 0,
  "metadata": {
    "colab": {
      "provenance": [],
      "authorship_tag": "ABX9TyOWFh9SPuALWj8CEp0m9ydp",
      "include_colab_link": true
    },
    "kernelspec": {
      "name": "python3",
      "display_name": "Python 3"
    },
    "language_info": {
      "name": "python"
    }
  },
  "cells": [
    {
      "cell_type": "markdown",
      "metadata": {
        "id": "view-in-github",
        "colab_type": "text"
      },
      "source": [
        "<a href=\"https://colab.research.google.com/github/jeevitha2304/jeevitha2004/blob/master/Python_OOPS.ipynb\" target=\"_parent\"><img src=\"https://colab.research.google.com/assets/colab-badge.svg\" alt=\"Open In Colab\"/></a>"
      ]
    },
    {
      "cell_type": "markdown",
      "source": [
        "OOPS\n"
      ],
      "metadata": {
        "id": "9AVWiepjevU6"
      }
    },
    {
      "cell_type": "code",
      "execution_count": null,
      "metadata": {
        "colab": {
          "base_uri": "https://localhost:8080/"
        },
        "id": "MVPFdmb_Utzm",
        "outputId": "f95c1578-60e2-4d19-af4d-0e8e4408cdca"
      },
      "outputs": [
        {
          "output_type": "stream",
          "name": "stdout",
          "text": [
            "Employee: Harry 12000 ABC Company\n",
            "Employee: Emma 10000 ABC Company\n"
          ]
        }
      ],
      "source": [
        "class Employee:\n",
        "   company_name = 'ABC Company'\n",
        "   def __init__(self, name, salary):\n",
        "       self.name = name\n",
        "       self.salary = salary\n",
        "   def show(self):\n",
        "       print('Employee:', self.name, self.salary, self.company_name)\n",
        "emp1 = Employee(\"Harry\", 12000)\n",
        "emp1.show()\n",
        "emp2 = Employee(\"Emma\", 10000)\n",
        "emp2.show()\n"
      ]
    },
    {
      "cell_type": "markdown",
      "source": [
        "ENCAPSULATION"
      ],
      "metadata": {
        "id": "O7lVlDS1dy3h"
      }
    },
    {
      "cell_type": "code",
      "source": [
        "class Employee:\n",
        "    def __init__(self, name, salary):\n",
        "        self.name = name\n",
        "        self.__salary = salary\n",
        "\n",
        "    def show(self):\n",
        "        print(\"Name is\", self.name, \"and salary is\", self.__salary)\n",
        "\n",
        "    def get_salary(self):\n",
        "        return self.__salary\n",
        "\n",
        "# Create an instance of the Employee class\n",
        "emp = Employee(\"Jessa\", 40000)\n",
        "\n",
        "# Call the show method\n",
        "emp.show()\n",
        "\n",
        "# Access the private attribute using a public method\n",
        "print(emp.get_salary())\n"
      ],
      "metadata": {
        "colab": {
          "base_uri": "https://localhost:8080/"
        },
        "id": "TcDHvXFSfgzr",
        "outputId": "2c1ea7de-359a-4762-b7d2-ae1e3707fa60"
      },
      "execution_count": null,
      "outputs": [
        {
          "output_type": "stream",
          "name": "stdout",
          "text": [
            "Name is Jessa and salary is 40000\n",
            "40000\n"
          ]
        }
      ]
    },
    {
      "cell_type": "markdown",
      "source": [
        "POLYMORPHISM\n"
      ],
      "metadata": {
        "id": "nfYw27modsfw"
      }
    },
    {
      "cell_type": "code",
      "source": [
        "class Circle:\n",
        "    pi = 3.14\n",
        "    def __init__(self, redius):\n",
        "        self.radius = redius\n",
        "    def calculate_area(self):\n",
        "        print(\"Area of circle :\", self.pi * self.radius * self.radius)\n",
        "class Rectangle:\n",
        "    def __init__(self, length, width):\n",
        "        self.length = length\n",
        "        self.width = width\n",
        "    def calculate_area(self):\n",
        "        print(\"Area of Rectangle :\", self.length * self.width)\n",
        "def area(shape):\n",
        "    shape.calculate_area()\n",
        "\n",
        "cir = Circle(5)\n",
        "rect = Rectangle(10, 5)\n",
        "\n",
        "area(cir)\n",
        "area(rect)"
      ],
      "metadata": {
        "colab": {
          "base_uri": "https://localhost:8080/"
        },
        "id": "Qf1JEnoQcZ4b",
        "outputId": "e37a8bfa-4ccb-4161-869c-76c2e907e683"
      },
      "execution_count": null,
      "outputs": [
        {
          "output_type": "stream",
          "name": "stdout",
          "text": [
            "Area of circle : 78.5\n",
            "Area of Rectangle : 50\n"
          ]
        }
      ]
    },
    {
      "cell_type": "code",
      "source": [
        "class Vehicle:\n",
        "    def __init__(self, name, color, price):\n",
        "        self.name = name\n",
        "        self.color = color\n",
        "        self.price = price\n",
        "    def info(self):\n",
        "        print(self.name, self.color, self.price)\n",
        "# Child class\n",
        "class Car(Vehicle):\n",
        "    def change_gear(self, no):\n",
        "        print(self.name, 'change gear to number', no)\n",
        "\n",
        "car = Car('BMW X1', 'Black', 35000)\n",
        "car.info()\n",
        "car.change_gear(5)"
      ],
      "metadata": {
        "colab": {
          "base_uri": "https://localhost:8080/"
        },
        "id": "dYpMtpp6darS",
        "outputId": "e1c9e2c7-ce60-4478-d4bc-73f757a61398"
      },
      "execution_count": null,
      "outputs": [
        {
          "output_type": "stream",
          "name": "stdout",
          "text": [
            "BMW X1 Black 35000\n",
            "BMW X1 change gear to number 5\n"
          ]
        }
      ]
    },
    {
      "cell_type": "code",
      "source": [],
      "metadata": {
        "id": "5b0fyo15ei1S"
      },
      "execution_count": null,
      "outputs": []
    }
  ]
}