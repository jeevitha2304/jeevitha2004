{
  "nbformat": 4,
  "nbformat_minor": 0,
  "metadata": {
    "colab": {
      "provenance": [],
      "authorship_tag": "ABX9TyPI3aE05ZQzXZ5wJRKrscVK",
      "include_colab_link": true
    },
    "kernelspec": {
      "name": "python3",
      "display_name": "Python 3"
    },
    "language_info": {
      "name": "python"
    }
  },
  "cells": [
    {
      "cell_type": "markdown",
      "metadata": {
        "id": "view-in-github",
        "colab_type": "text"
      },
      "source": [
        "<a href=\"https://colab.research.google.com/github/jeevitha2304/jeevitha2004/blob/master/Python_Iter_Tools.ipynb\" target=\"_parent\"><img src=\"https://colab.research.google.com/assets/colab-badge.svg\" alt=\"Open In Colab\"/></a>"
      ]
    },
    {
      "cell_type": "code",
      "execution_count": null,
      "metadata": {
        "colab": {
          "base_uri": "https://localhost:8080/"
        },
        "id": "XepkG7uoPTFM",
        "outputId": "493306f1-395b-4221-9d4e-8e4a1ff2ceca"
      },
      "outputs": [
        {
          "output_type": "stream",
          "name": "stdout",
          "text": [
            "1\n",
            "3\n",
            "5\n",
            "7\n",
            "9\n"
          ]
        }
      ],
      "source": [
        "from itertools import count\n",
        "\n",
        "for number in count(start=1, step=2):\n",
        "\tif number > 10:\n",
        "\t\tbreak\n",
        "\tprint(number)"
      ]
    },
    {
      "cell_type": "code",
      "source": [
        "import itertools\n",
        "for i in itertools.count(5, 5):\n",
        "\tif i == 35:\n",
        "\t\tbreak\n",
        "\telse:\n",
        "\t\tprint(i, end=\" \")"
      ],
      "metadata": {
        "colab": {
          "base_uri": "https://localhost:8080/"
        },
        "id": "Ftejz61mQyeS",
        "outputId": "9d556246-0d72-428c-9ee8-50c969dcc0ae"
      },
      "execution_count": null,
      "outputs": [
        {
          "output_type": "stream",
          "name": "stdout",
          "text": [
            "5 10 15 20 25 30 "
          ]
        }
      ]
    },
    {
      "cell_type": "code",
      "source": [
        "import itertools\n",
        "\n",
        "count = 0\n",
        "\n",
        "# for in loop\n",
        "for i in itertools.cycle('AB'):\n",
        "\tif count > 7:\n",
        "\t\tbreak\n",
        "\telse:\n",
        "\t\tprint(i, end=\" \")\n",
        "\t\tcount += 1"
      ],
      "metadata": {
        "colab": {
          "base_uri": "https://localhost:8080/"
        },
        "id": "4FmuKtXQQ3l6",
        "outputId": "95a555a7-a560-436f-fd27-430f736b2bad"
      },
      "execution_count": null,
      "outputs": [
        {
          "output_type": "stream",
          "name": "stdout",
          "text": [
            "A B A B A B A B "
          ]
        }
      ]
    },
    {
      "cell_type": "code",
      "source": [
        "import itertools\n",
        "\n",
        "l = ['CSE', 'COM', 'ECM']\n",
        "iterators = itertools.cycle(l)\n",
        "for i in range(6):\n",
        "\tprint(next(iterators), end=\" \")\n"
      ],
      "metadata": {
        "colab": {
          "base_uri": "https://localhost:8080/"
        },
        "id": "9ew95I8SQ97F",
        "outputId": "23970d8a-b6bc-4ccb-f480-40075c5ed231"
      },
      "execution_count": null,
      "outputs": [
        {
          "output_type": "stream",
          "name": "stdout",
          "text": [
            "CSE COM ECM CSE COM ECM "
          ]
        }
      ]
    },
    {
      "cell_type": "code",
      "source": [
        "import itertools\n",
        "print(\"Printing the numbers repeatedly : \")\n",
        "print(list(itertools.repeat(25, 4)))"
      ],
      "metadata": {
        "colab": {
          "base_uri": "https://localhost:8080/"
        },
        "id": "KbLy_YL1REXV",
        "outputId": "39cb127b-4063-49d0-d97e-79fa2d6cbcf4"
      },
      "execution_count": null,
      "outputs": [
        {
          "output_type": "stream",
          "name": "stdout",
          "text": [
            "Printing the numbers repeatedly : \n",
            "[25, 25, 25, 25]\n"
          ]
        }
      ]
    },
    {
      "cell_type": "code",
      "source": [
        "from itertools import product\n",
        "\n",
        "print(\"The cartesian product using repeat:\")\n",
        "print(list(product([1, 2], repeat=2)))\n",
        "print()\n",
        "\n",
        "print(\"The cartesian product of the containers:\")\n",
        "print(list(product(['COM', 'CSE', 'ECM'], '2')))\n",
        "print()\n",
        "\n",
        "print(\"The cartesian product of the containers:\")\n",
        "print(list(product('AB', [3, 4])))\n"
      ],
      "metadata": {
        "colab": {
          "base_uri": "https://localhost:8080/"
        },
        "id": "B6ucslTPRJ9U",
        "outputId": "87f3d9dd-53d7-4d77-91e2-38224e2ab9f9"
      },
      "execution_count": null,
      "outputs": [
        {
          "output_type": "stream",
          "name": "stdout",
          "text": [
            "The cartesian product using repeat:\n",
            "[(1, 1), (1, 2), (2, 1), (2, 2)]\n",
            "\n",
            "The cartesian product of the containers:\n",
            "[('COM', '2'), ('CSE', '2'), ('ECM', '2')]\n",
            "\n",
            "The cartesian product of the containers:\n",
            "[('A', 3), ('A', 4), ('B', 3), ('B', 4)]\n"
          ]
        }
      ]
    },
    {
      "cell_type": "code",
      "source": [
        "from itertools import permutations\n",
        "\n",
        "print(\"All the permutations of the given list is:\")\n",
        "print(list(permutations([1, 'Computer'], 2)))\n",
        "print()\n",
        "\n",
        "print(\"All the permutations of the given string is:\")\n",
        "print(list(permutations('AB')))\n",
        "print()\n",
        "\n",
        "print(\"All the permutations of the given container is:\")\n",
        "print(list(permutations(range(3), 2)))"
      ],
      "metadata": {
        "colab": {
          "base_uri": "https://localhost:8080/"
        },
        "id": "RIB8QFpYRVnl",
        "outputId": "199882ec-5cda-4d1b-98cd-ad61b3481963"
      },
      "execution_count": null,
      "outputs": [
        {
          "output_type": "stream",
          "name": "stdout",
          "text": [
            "All the permutations of the given list is:\n",
            "[(1, 'Computer'), ('Computer', 1)]\n",
            "\n",
            "All the permutations of the given string is:\n",
            "[('A', 'B'), ('B', 'A')]\n",
            "\n",
            "All the permutations of the given container is:\n",
            "[(0, 1), (0, 2), (1, 0), (1, 2), (2, 0), (2, 1)]\n"
          ]
        }
      ]
    },
    {
      "cell_type": "code",
      "source": [
        "from itertools import combinations\n",
        "\n",
        "print (\"All the combination of list in sorted order(without replacement) is:\")\n",
        "print(list(combinations(['A', 2], 2)))\n",
        "print()\n",
        "\n",
        "print (\"All the combination of string in sorted order(without replacement) is:\")\n",
        "print(list(combinations('AB', 2)))\n",
        "print()\n",
        "\n",
        "print (\"All the combination of list in sorted order(without replacement) is:\")\n",
        "print(list(combinations(range(2), 1)))\n"
      ],
      "metadata": {
        "colab": {
          "base_uri": "https://localhost:8080/"
        },
        "id": "MTFKS7X0RcUV",
        "outputId": "f6c5b31f-7f44-45c7-9a5b-0ffbf19f9661"
      },
      "execution_count": null,
      "outputs": [
        {
          "output_type": "stream",
          "name": "stdout",
          "text": [
            "All the combination of list in sorted order(without replacement) is:\n",
            "[('A', 2)]\n",
            "\n",
            "All the combination of string in sorted order(without replacement) is:\n",
            "[('A', 'B')]\n",
            "\n",
            "All the combination of list in sorted order(without replacement) is:\n",
            "[(0,), (1,)]\n"
          ]
        }
      ]
    },
    {
      "cell_type": "code",
      "source": [
        "from itertools import combinations_with_replacement\n",
        "\n",
        "print(\"All the combination of string in sorted order(with replacement) is:\")\n",
        "print(list(combinations_with_replacement(\"AB\", 2)))\n",
        "print()\n",
        "\n",
        "print(\"All the combination of list in sorted order(with replacement) is:\")\n",
        "print(list(combinations_with_replacement([1, 2], 2)))\n",
        "print()\n",
        "\n",
        "print(\"All the combination of container in sorted order(with replacement) is:\")\n",
        "print(list(combinations_with_replacement(range(2), 1)))\n"
      ],
      "metadata": {
        "colab": {
          "base_uri": "https://localhost:8080/"
        },
        "id": "bLlf9N-zRd0s",
        "outputId": "8bfa23fb-4093-48dc-9b4d-c677490d6469"
      },
      "execution_count": null,
      "outputs": [
        {
          "output_type": "stream",
          "name": "stdout",
          "text": [
            "All the combination of string in sorted order(with replacement) is:\n",
            "[('A', 'A'), ('A', 'B'), ('B', 'B')]\n",
            "\n",
            "All the combination of list in sorted order(with replacement) is:\n",
            "[(1, 1), (1, 2), (2, 2)]\n",
            "\n",
            "All the combination of container in sorted order(with replacement) is:\n",
            "[(0,), (1,)]\n"
          ]
        }
      ]
    },
    {
      "cell_type": "code",
      "source": [
        "import itertools\n",
        "import operator\n",
        "li1 = [1, 4, 5, 7]\n",
        "print(\"The sum after each iteration is : \", end=\"\")\n",
        "print(list(itertools.accumulate(li1)))\n",
        "print(\"The product after each iteration is : \", end=\"\")\n",
        "print(list(itertools.accumulate(li1, operator.mul)))\n",
        "print(\"The sum after each iteration is : \", end=\"\")\n",
        "print(list(itertools.accumulate(li1)))\n",
        "print(\"The product after each iteration is : \", end=\"\")\n",
        "print(list(itertools.accumulate(li1, operator.mul)))\n"
      ],
      "metadata": {
        "colab": {
          "base_uri": "https://localhost:8080/"
        },
        "id": "pCdd__GgRkOM",
        "outputId": "05ddd850-7a42-4bcb-c8ad-6953ed23c584"
      },
      "execution_count": null,
      "outputs": [
        {
          "output_type": "stream",
          "name": "stdout",
          "text": [
            "The sum after each iteration is : [1, 5, 10, 17]\n",
            "The product after each iteration is : [1, 4, 20, 140]\n",
            "The sum after each iteration is : [1, 5, 10, 17]\n",
            "The product after each iteration is : [1, 4, 20, 140]\n"
          ]
        }
      ]
    },
    {
      "cell_type": "code",
      "source": [
        "import itertools\n",
        "li1 = [1, 4, 5, 7]\n",
        "li2 = [1, 6, 5, 9]\n",
        "li3 = [8, 10, 5, 4]\n",
        "print(\"All values in mentioned chain are : \", end=\"\")\n",
        "print(list(itertools.chain(li1, li2, li3)))\n"
      ],
      "metadata": {
        "colab": {
          "base_uri": "https://localhost:8080/"
        },
        "id": "OwS8GP11R-BE",
        "outputId": "e6eb9be5-b503-4db7-873f-3a2949a6b311"
      },
      "execution_count": null,
      "outputs": [
        {
          "output_type": "stream",
          "name": "stdout",
          "text": [
            "All values in mentioned chain are : [1, 4, 5, 7, 1, 6, 5, 9, 8, 10, 5, 4]\n"
          ]
        }
      ]
    },
    {
      "cell_type": "code",
      "source": [
        "import itertools\n",
        "li1 = [1, 4, 5, 7]\n",
        "li2 = [1, 6, 5, 9]\n",
        "li3 = [8, 10, 5, 4]\n",
        "li4 = [li1, li2, li3]\n",
        "print (\"All values in mentioned chain are : \", end =\"\")\n",
        "print (list(itertools.chain.from_iterable(li4)))\n"
      ],
      "metadata": {
        "colab": {
          "base_uri": "https://localhost:8080/"
        },
        "id": "TzlfltjKSC-c",
        "outputId": "c81f3527-e866-4c4c-cf25-5e9ef00a4199"
      },
      "execution_count": null,
      "outputs": [
        {
          "output_type": "stream",
          "name": "stdout",
          "text": [
            "All values in mentioned chain are : [1, 4, 5, 7, 1, 6, 5, 9, 8, 10, 5, 4]\n"
          ]
        }
      ]
    },
    {
      "cell_type": "code",
      "source": [
        "import itertools\n",
        "print(\"The compressed values in string are : \", end=\"\")\n",
        "print(list(itertools.compress('GEEKSFORGEEKS', [\n",
        "\t1, 0, 0, 0, 0, 1, 0, 0, 1, 0, 0, 0, 0])))"
      ],
      "metadata": {
        "colab": {
          "base_uri": "https://localhost:8080/"
        },
        "id": "jxLVVtJzSPvR",
        "outputId": "9f33eb87-836e-4f12-baec-e31d20d3e69b"
      },
      "execution_count": null,
      "outputs": [
        {
          "output_type": "stream",
          "name": "stdout",
          "text": [
            "The compressed values in string are : ['G', 'F', 'G']\n"
          ]
        }
      ]
    },
    {
      "cell_type": "code",
      "source": [
        "import itertools\n",
        "li = [2, 4, 5, 7, 8]\n",
        "print (\"The values after condition returns false : \", end =\"\")\n",
        "print (list(itertools.dropwhile(lambda x : x % 2 == 0, li)))\n"
      ],
      "metadata": {
        "colab": {
          "base_uri": "https://localhost:8080/"
        },
        "id": "Fj3bHMmJSSlM",
        "outputId": "aae353a9-65d8-4c93-b369-38f8d742220f"
      },
      "execution_count": null,
      "outputs": [
        {
          "output_type": "stream",
          "name": "stdout",
          "text": [
            "The values after condition returns false : [5, 7, 8]\n"
          ]
        }
      ]
    },
    {
      "cell_type": "code",
      "source": [
        "import itertools\n",
        "li = [2, 4, 5, 7, 8]\n",
        "print (\"The values that return false to function are : \", end =\"\")\n",
        "print (list(itertools.filterfalse(lambda x : x % 2 == 0, li)))\n"
      ],
      "metadata": {
        "colab": {
          "base_uri": "https://localhost:8080/"
        },
        "id": "hTKdCym3SqLc",
        "outputId": "f88be57f-ae9f-4fd7-f227-debdba7f3d9f"
      },
      "execution_count": null,
      "outputs": [
        {
          "output_type": "stream",
          "name": "stdout",
          "text": [
            "The values that return false to function are : [5, 7]\n"
          ]
        }
      ]
    },
    {
      "cell_type": "code",
      "source": [
        "import itertools\n",
        "li = [2, 4, 5, 7, 8, 10, 20]\n",
        "print (\"The sliced list values are : \", end =\"\")\n",
        "print (list(itertools.islice(li, 1, 6, 2)))\n"
      ],
      "metadata": {
        "colab": {
          "base_uri": "https://localhost:8080/"
        },
        "id": "ctgxVM8qSwB1",
        "outputId": "4dbe139f-8883-4aff-cfe7-d52061601fc8"
      },
      "execution_count": null,
      "outputs": [
        {
          "output_type": "stream",
          "name": "stdout",
          "text": [
            "The sliced list values are : [4, 7, 10]\n"
          ]
        }
      ]
    },
    {
      "cell_type": "code",
      "source": [
        "import itertools\n",
        "li = [ (1, 10, 5), (8, 4, 1), (5, 4, 9), (11, 10, 1) ]\n",
        "print (\"The values acc. to function are : \", end =\"\")\n",
        "print (list(itertools.starmap(min, li)))\n"
      ],
      "metadata": {
        "colab": {
          "base_uri": "https://localhost:8080/"
        },
        "id": "v_qhJPE4SzuN",
        "outputId": "f6e0ac0d-949f-40a5-d894-bfcf760546e2"
      },
      "execution_count": null,
      "outputs": [
        {
          "output_type": "stream",
          "name": "stdout",
          "text": [
            "The values acc. to function are : [1, 1, 4, 1]\n"
          ]
        }
      ]
    },
    {
      "cell_type": "code",
      "source": [
        "import itertools\n",
        "li = [2, 4, 6, 7, 8, 10, 20]\n",
        "print (\"The list values till 1st false value are : \", end =\"\")\n",
        "print (list(itertools.takewhile(lambda x : x % 2 == 0, li )))\n"
      ],
      "metadata": {
        "colab": {
          "base_uri": "https://localhost:8080/"
        },
        "id": "a4lDhjQ_S5zN",
        "outputId": "8050ee1b-a60e-4e96-b468-a8d763254c34"
      },
      "execution_count": null,
      "outputs": [
        {
          "output_type": "stream",
          "name": "stdout",
          "text": [
            "The list values till 1st false value are : [2, 4, 6]\n"
          ]
        }
      ]
    },
    {
      "cell_type": "code",
      "source": [
        "import itertools\n",
        "li = [2, 4, 6, 7, 8, 10, 20]\n",
        "iti = iter(li)\n",
        "it = itertools.tee(iti, 3)\n",
        "print(\"The iterators are : \")\n",
        "for i in range(0, 3):\n",
        "\tprint(list(it[i]))"
      ],
      "metadata": {
        "colab": {
          "base_uri": "https://localhost:8080/"
        },
        "id": "gdXPV4jaTFcU",
        "outputId": "314c83cd-21bf-4be7-c915-28ba060df22f"
      },
      "execution_count": null,
      "outputs": [
        {
          "output_type": "stream",
          "name": "stdout",
          "text": [
            "The iterators are : \n",
            "[2, 4, 6, 7, 8, 10, 20]\n",
            "[2, 4, 6, 7, 8, 10, 20]\n",
            "[2, 4, 6, 7, 8, 10, 20]\n",
            "The iterators are : \n",
            "[2, 4, 6, 7, 8, 10, 20]\n",
            "[2, 4, 6, 7, 8, 10, 20]\n",
            "[2, 4, 6, 7, 8, 10, 20]\n"
          ]
        }
      ]
    },
    {
      "cell_type": "code",
      "source": [
        "import itertools\n",
        "print(\"The combined values of iterables is : \")\n",
        "print(*(itertools.zip_longest('Peiec', 'rsdny', fillvalue='_')))\n"
      ],
      "metadata": {
        "colab": {
          "base_uri": "https://localhost:8080/"
        },
        "id": "2SrKIw9nTRqN",
        "outputId": "cba42081-a6fa-4b5d-8973-7d1b6b1d519e"
      },
      "execution_count": null,
      "outputs": [
        {
          "output_type": "stream",
          "name": "stdout",
          "text": [
            "The combined values of iterables is : \n",
            "('P', 'r') ('e', 's') ('i', 'd') ('e', 'n') ('c', 'y')\n"
          ]
        }
      ]
    }
  ]
}