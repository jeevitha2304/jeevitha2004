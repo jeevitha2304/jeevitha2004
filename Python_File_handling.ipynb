{
  "nbformat": 4,
  "nbformat_minor": 0,
  "metadata": {
    "colab": {
      "provenance": [],
      "authorship_tag": "ABX9TyOoKlTc1BFSR3ztE2PgR9v7",
      "include_colab_link": true
    },
    "kernelspec": {
      "name": "python3",
      "display_name": "Python 3"
    },
    "language_info": {
      "name": "python"
    }
  },
  "cells": [
    {
      "cell_type": "markdown",
      "metadata": {
        "id": "view-in-github",
        "colab_type": "text"
      },
      "source": [
        "<a href=\"https://colab.research.google.com/github/jeevitha2304/jeevitha2004/blob/master/Python_File_handling.ipynb\" target=\"_parent\"><img src=\"https://colab.research.google.com/assets/colab-badge.svg\" alt=\"Open In Colab\"/></a>"
      ]
    },
    {
      "cell_type": "markdown",
      "source": [
        "Opening a file"
      ],
      "metadata": {
        "id": "bg11PL1YaUZf"
      }
    },
    {
      "cell_type": "code",
      "execution_count": null,
      "metadata": {
        "id": "5d2XSwSyYlYV"
      },
      "outputs": [],
      "source": [
        "F1 = open(\"/content/sample_data/Demo.txt\",\"r\")"
      ]
    },
    {
      "cell_type": "markdown",
      "source": [
        "Writing text to a file"
      ],
      "metadata": {
        "id": "MAQFhEp8bK6v"
      }
    },
    {
      "cell_type": "code",
      "source": [
        "def main():\n",
        "  obj1 = open(\"/content/Demo.txt\", \"w\") #Opens a file in Write mode\n",
        "  obj1.write(\"Hello, How are you? \\n\")\n",
        "  obj1.write(\"Welcome to The File Handling. \\n\")\n",
        "  obj1.write(\"Enjoy the session. \\n\")\n",
        "\n",
        "\n",
        "main()"
      ],
      "metadata": {
        "id": "0eGg1ga4abB2"
      },
      "execution_count": null,
      "outputs": []
    },
    {
      "cell_type": "markdown",
      "source": [
        "Closing a File"
      ],
      "metadata": {
        "id": "4dTfUwdhbQop"
      }
    },
    {
      "cell_type": "code",
      "source": [
        "fp1 = open(\"/content/Demo.txt\",\"w\")"
      ],
      "metadata": {
        "id": "d_Necn-UbPEX"
      },
      "execution_count": null,
      "outputs": []
    },
    {
      "cell_type": "code",
      "source": [
        "fp1.close()"
      ],
      "metadata": {
        "id": "kABCaWIPbHhe"
      },
      "execution_count": null,
      "outputs": []
    },
    {
      "cell_type": "markdown",
      "source": [
        "Write numbers from 1 to 20 to ouput file WriteNumbers.txt"
      ],
      "metadata": {
        "id": "vCZ9OLVqcafP"
      }
    },
    {
      "cell_type": "code",
      "source": [
        "def main():\n",
        "  obj1 = open(\"/content/WriteNumbers.txt\",\"w\") #Open File in Write mode\n",
        "  for x in range(1,21):   #Iterates from 1 to 20\n",
        "    x=str(x)              #Convert Number to String\n",
        "    obj1.write(x)         #Write Number to a output file\n",
        "    obj1.write(\"\\n\")      #Space to separate Numbers\n",
        "  obj1.close()            #Close File\n",
        "\n",
        "main()"
      ],
      "metadata": {
        "id": "LPBwhJzscr6u"
      },
      "execution_count": null,
      "outputs": []
    },
    {
      "cell_type": "markdown",
      "source": [
        "Generate 50 numbers with range 500 to 1000."
      ],
      "metadata": {
        "id": "qUcCRBPnePne"
      }
    },
    {
      "cell_type": "code",
      "source": [
        "from random import randint\n",
        "fp1 = open(\"/content/WriteNumRandom.txt\",\"w\")\n",
        "for x in range(51):\n",
        "  x = randint(500,1000)\n",
        "  x = str(x)\n",
        "  fp1.write(x + \" \")\n",
        "\n",
        "fp1.close()"
      ],
      "metadata": {
        "id": "4F0Hf-7meX62"
      },
      "execution_count": null,
      "outputs": []
    },
    {
      "cell_type": "markdown",
      "source": [
        "Reading Text From a File"
      ],
      "metadata": {
        "id": "n1mbtN-jgbrP"
      }
    },
    {
      "cell_type": "code",
      "source": [
        "fp = open(\"/content/Demo.txt\",\"r\")\n",
        "text = fp.read()\n",
        "print(text)"
      ],
      "metadata": {
        "colab": {
          "base_uri": "https://localhost:8080/"
        },
        "id": "uGlW_E1dgRG2",
        "outputId": "f4ce14f7-6501-4c47-e654-e3abea7bbe31"
      },
      "execution_count": null,
      "outputs": [
        {
          "output_type": "stream",
          "name": "stdout",
          "text": [
            "\n"
          ]
        }
      ]
    },
    {
      "cell_type": "code",
      "source": [
        "fp = open(\"/content/Demo.txt\",\"r\")\n",
        "for line in fp:\n",
        "  print(line)"
      ],
      "metadata": {
        "id": "tyCqKXeggzT9"
      },
      "execution_count": null,
      "outputs": []
    },
    {
      "cell_type": "code",
      "source": [
        "fp1 = open(\"WriteNumbers.txt\",\"r\")\n",
        "num = fp1.read()\n",
        "print(num)\n",
        "print(type(num))\n"
      ],
      "metadata": {
        "colab": {
          "base_uri": "https://localhost:8080/"
        },
        "id": "IIq_Cc3Fg7-F",
        "outputId": "2fa622bd-817b-472c-dd2b-297730aa3279"
      },
      "execution_count": null,
      "outputs": [
        {
          "output_type": "stream",
          "name": "stdout",
          "text": [
            "1\n",
            "2\n",
            "3\n",
            "4\n",
            "5\n",
            "6\n",
            "7\n",
            "8\n",
            "9\n",
            "10\n",
            "11\n",
            "12\n",
            "13\n",
            "14\n",
            "15\n",
            "16\n",
            "17\n",
            "18\n",
            "19\n",
            "20\n",
            "\n",
            "<class 'str'>\n"
          ]
        }
      ]
    },
    {
      "cell_type": "markdown",
      "source": [
        "Write a program for operation using seek()"
      ],
      "metadata": {
        "id": "Q-QmLEe1hckV"
      }
    },
    {
      "cell_type": "code",
      "source": [
        "fp1 = open(\"Weekdays.txt\",\"w+\")\n",
        "fp1.write(\"Monday\\n\")\n",
        "fp1.write(\"Tuesday\\n\")\n",
        "fp1.write(\"Wednesday\\n\")\n",
        "fp1.write(\"Thursday\\n\")\n",
        "fp1.write(\"Friday\\n\")\n",
        "fp1.seek(0)\n",
        "t = fp1.read()\n",
        "print(t)"
      ],
      "metadata": {
        "id": "qHhxnWBPhV6G",
        "colab": {
          "base_uri": "https://localhost:8080/"
        },
        "outputId": "b02adf8b-a8dd-42f1-c201-06b7cfe518ca"
      },
      "execution_count": null,
      "outputs": [
        {
          "output_type": "stream",
          "name": "stdout",
          "text": [
            "Monday\n",
            "Tuesday\n",
            "Wednesday\n",
            "Thursday\n",
            "Friday\n",
            "\n"
          ]
        }
      ]
    },
    {
      "cell_type": "code",
      "source": [
        "fp1.seek(0,2)\n",
        "fp1.write('Saturday\\n')\n",
        "fp1.write(\"Sunday\\n\")\n",
        "fp1.seek(0)\n",
        "t = fp1.read()\n",
        "print(t)"
      ],
      "metadata": {
        "id": "NeUENK3DhAxu",
        "colab": {
          "base_uri": "https://localhost:8080/"
        },
        "outputId": "e49d98a1-0d6b-4697-dd0f-bffbc1f92557"
      },
      "execution_count": null,
      "outputs": [
        {
          "output_type": "stream",
          "name": "stdout",
          "text": [
            "Monday\n",
            "Tuesday\n",
            "Wednesday\n",
            "Thursday\n",
            "Friday\n",
            "Saturday\n",
            "Sunday\n",
            "\n"
          ]
        }
      ]
    },
    {
      "cell_type": "markdown",
      "source": [
        "Exception Handling"
      ],
      "metadata": {
        "id": "AL1IKLu1k8U1"
      }
    },
    {
      "cell_type": "code",
      "source": [
        "2+'3'"
      ],
      "metadata": {
        "colab": {
          "base_uri": "https://localhost:8080/",
          "height": 141
        },
        "id": "G9V3FeAjk_G9",
        "outputId": "0f6f9359-5472-4abb-814e-cb45bbba9d59"
      },
      "execution_count": null,
      "outputs": [
        {
          "output_type": "error",
          "ename": "TypeError",
          "evalue": "unsupported operand type(s) for +: 'int' and 'str'",
          "traceback": [
            "\u001b[0;31m---------------------------------------------------------------------------\u001b[0m",
            "\u001b[0;31mTypeError\u001b[0m                                 Traceback (most recent call last)",
            "\u001b[0;32m<ipython-input-21-c24d39b239a5>\u001b[0m in \u001b[0;36m<cell line: 1>\u001b[0;34m()\u001b[0m\n\u001b[0;32m----> 1\u001b[0;31m \u001b[0;36m2\u001b[0m\u001b[0;34m+\u001b[0m\u001b[0;34m'3'\u001b[0m\u001b[0;34m\u001b[0m\u001b[0;34m\u001b[0m\u001b[0m\n\u001b[0m",
            "\u001b[0;31mTypeError\u001b[0m: unsupported operand type(s) for +: 'int' and 'str'"
          ]
        }
      ]
    },
    {
      "cell_type": "code",
      "source": [
        "lsst[0]"
      ],
      "metadata": {
        "colab": {
          "base_uri": "https://localhost:8080/",
          "height": 141
        },
        "id": "JXnJ2ifdliZE",
        "outputId": "4023c81d-3a1e-4037-8083-f16304d3b033"
      },
      "execution_count": null,
      "outputs": [
        {
          "output_type": "error",
          "ename": "NameError",
          "evalue": "name 'lsst' is not defined",
          "traceback": [
            "\u001b[0;31m---------------------------------------------------------------------------\u001b[0m",
            "\u001b[0;31mNameError\u001b[0m                                 Traceback (most recent call last)",
            "\u001b[0;32m<ipython-input-22-8aa50b6341ff>\u001b[0m in \u001b[0;36m<cell line: 1>\u001b[0;34m()\u001b[0m\n\u001b[0;32m----> 1\u001b[0;31m \u001b[0mlsst\u001b[0m\u001b[0;34m[\u001b[0m\u001b[0;36m0\u001b[0m\u001b[0;34m]\u001b[0m\u001b[0;34m\u001b[0m\u001b[0;34m\u001b[0m\u001b[0m\n\u001b[0m",
            "\u001b[0;31mNameError\u001b[0m: name 'lsst' is not defined"
          ]
        }
      ]
    },
    {
      "cell_type": "code",
      "source": [
        "import math\n",
        "num = int(input('Enter a number: '))\n",
        "print('The factorial of {0} is {1}'.format(num,math.factorial(num)))"
      ],
      "metadata": {
        "colab": {
          "base_uri": "https://localhost:8080/",
          "height": 193
        },
        "id": "P--XOh6tlk39",
        "outputId": "49a6891e-d147-4374-a8d8-94f6825c6418"
      },
      "execution_count": null,
      "outputs": [
        {
          "name": "stdout",
          "output_type": "stream",
          "text": [
            "Enter a number: -7\n"
          ]
        },
        {
          "output_type": "error",
          "ename": "ValueError",
          "evalue": "factorial() not defined for negative values",
          "traceback": [
            "\u001b[0;31m---------------------------------------------------------------------------\u001b[0m",
            "\u001b[0;31mValueError\u001b[0m                                Traceback (most recent call last)",
            "\u001b[0;32m<ipython-input-24-837ccad0f022>\u001b[0m in \u001b[0;36m<cell line: 3>\u001b[0;34m()\u001b[0m\n\u001b[1;32m      1\u001b[0m \u001b[0;32mimport\u001b[0m \u001b[0mmath\u001b[0m\u001b[0;34m\u001b[0m\u001b[0;34m\u001b[0m\u001b[0m\n\u001b[1;32m      2\u001b[0m \u001b[0mnum\u001b[0m \u001b[0;34m=\u001b[0m \u001b[0mint\u001b[0m\u001b[0;34m(\u001b[0m\u001b[0minput\u001b[0m\u001b[0;34m(\u001b[0m\u001b[0;34m'Enter a number: '\u001b[0m\u001b[0;34m)\u001b[0m\u001b[0;34m)\u001b[0m\u001b[0;34m\u001b[0m\u001b[0;34m\u001b[0m\u001b[0m\n\u001b[0;32m----> 3\u001b[0;31m \u001b[0mprint\u001b[0m\u001b[0;34m(\u001b[0m\u001b[0;34m'The factorial of {0} is {1}'\u001b[0m\u001b[0;34m.\u001b[0m\u001b[0mformat\u001b[0m\u001b[0;34m(\u001b[0m\u001b[0mnum\u001b[0m\u001b[0;34m,\u001b[0m\u001b[0mmath\u001b[0m\u001b[0;34m.\u001b[0m\u001b[0mfactorial\u001b[0m\u001b[0;34m(\u001b[0m\u001b[0mnum\u001b[0m\u001b[0;34m)\u001b[0m\u001b[0;34m)\u001b[0m\u001b[0;34m)\u001b[0m\u001b[0;34m\u001b[0m\u001b[0;34m\u001b[0m\u001b[0m\n\u001b[0m",
            "\u001b[0;31mValueError\u001b[0m: factorial() not defined for negative values"
          ]
        }
      ]
    },
    {
      "cell_type": "code",
      "source": [
        "import math\n",
        "num = int(input('Enter a number: '))\n",
        "try:\n",
        "  print('The factorial of {0} is {1}'.format(num,math.factorial(num)))\n",
        "except ValueError:\n",
        "  print('Cannot compute factorial for negative number')"
      ],
      "metadata": {
        "colab": {
          "base_uri": "https://localhost:8080/"
        },
        "id": "ehztiEUolqUT",
        "outputId": "4dea4739-8e7a-4b9d-d8f9-1419841fb42b"
      },
      "execution_count": null,
      "outputs": [
        {
          "output_type": "stream",
          "name": "stdout",
          "text": [
            "Enter a number: -7\n",
            "Cannot compute factorial for negative number\n"
          ]
        }
      ]
    },
    {
      "cell_type": "markdown",
      "source": [
        "Recovered from exception"
      ],
      "metadata": {
        "id": "n2gpktSUl5QT"
      }
    },
    {
      "cell_type": "code",
      "source": [
        "import math\n",
        "\n",
        "num = int(input('Enter a number: '))\n",
        "valid_inp = False\n",
        "\n",
        "while not valid_inp:                  # !F -> T\n",
        "  try:\n",
        "    print('The factorial of {0} is {1}'.format(num,math.factorial(num)))\n",
        "    valid_inp = True\n",
        "\n",
        "  except ValueError:\n",
        "    print('Cannot compute factorial for negative number')\n",
        "    num = int(input('Please RE-ENTER'))"
      ],
      "metadata": {
        "colab": {
          "base_uri": "https://localhost:8080/"
        },
        "id": "5l6kJOsel3dU",
        "outputId": "20516f90-dc79-4f3f-ffb3-5454fbc25911"
      },
      "execution_count": null,
      "outputs": [
        {
          "output_type": "stream",
          "name": "stdout",
          "text": [
            "Enter a number: -9\n",
            "Cannot compute factorial for negative number\n",
            "Please RE-ENTER9\n",
            "The factorial of 9 is 362880\n"
          ]
        }
      ]
    },
    {
      "cell_type": "markdown",
      "source": [
        "Raised by User Defined Functions"
      ],
      "metadata": {
        "id": "CeIuSeJMmGdl"
      }
    },
    {
      "cell_type": "code",
      "source": [
        "def getMonth():\n",
        "  month = int(input('Enter a month (1-12)'))\n",
        "  if month < 1 or month > 12:\n",
        "    raise ValueError('Invalid Month Value')\n",
        "  return month\n",
        "\n",
        "m = getMonth()\n",
        "print(m)"
      ],
      "metadata": {
        "colab": {
          "base_uri": "https://localhost:8080/",
          "height": 332
        },
        "id": "1gv5bsZJls_T",
        "outputId": "a9edb7a4-90eb-44e7-bf0b-d82542879846"
      },
      "execution_count": null,
      "outputs": [
        {
          "name": "stdout",
          "output_type": "stream",
          "text": [
            "Enter a month (1-12)14\n"
          ]
        },
        {
          "output_type": "error",
          "ename": "ValueError",
          "evalue": "Invalid Month Value",
          "traceback": [
            "\u001b[0;31m---------------------------------------------------------------------------\u001b[0m",
            "\u001b[0;31mValueError\u001b[0m                                Traceback (most recent call last)",
            "\u001b[0;32m<ipython-input-32-da265c205f87>\u001b[0m in \u001b[0;36m<cell line: 7>\u001b[0;34m()\u001b[0m\n\u001b[1;32m      5\u001b[0m   \u001b[0;32mreturn\u001b[0m \u001b[0mmonth\u001b[0m\u001b[0;34m\u001b[0m\u001b[0;34m\u001b[0m\u001b[0m\n\u001b[1;32m      6\u001b[0m \u001b[0;34m\u001b[0m\u001b[0m\n\u001b[0;32m----> 7\u001b[0;31m \u001b[0mm\u001b[0m \u001b[0;34m=\u001b[0m \u001b[0mgetMonth\u001b[0m\u001b[0;34m(\u001b[0m\u001b[0;34m)\u001b[0m\u001b[0;34m\u001b[0m\u001b[0;34m\u001b[0m\u001b[0m\n\u001b[0m\u001b[1;32m      8\u001b[0m \u001b[0mprint\u001b[0m\u001b[0;34m(\u001b[0m\u001b[0mm\u001b[0m\u001b[0;34m)\u001b[0m\u001b[0;34m\u001b[0m\u001b[0;34m\u001b[0m\u001b[0m\n",
            "\u001b[0;32m<ipython-input-32-da265c205f87>\u001b[0m in \u001b[0;36mgetMonth\u001b[0;34m()\u001b[0m\n\u001b[1;32m      2\u001b[0m   \u001b[0mmonth\u001b[0m \u001b[0;34m=\u001b[0m \u001b[0mint\u001b[0m\u001b[0;34m(\u001b[0m\u001b[0minput\u001b[0m\u001b[0;34m(\u001b[0m\u001b[0;34m'Enter a month (1-12)'\u001b[0m\u001b[0;34m)\u001b[0m\u001b[0;34m)\u001b[0m\u001b[0;34m\u001b[0m\u001b[0;34m\u001b[0m\u001b[0m\n\u001b[1;32m      3\u001b[0m   \u001b[0;32mif\u001b[0m \u001b[0mmonth\u001b[0m \u001b[0;34m<\u001b[0m \u001b[0;36m1\u001b[0m \u001b[0;32mor\u001b[0m \u001b[0mmonth\u001b[0m \u001b[0;34m>\u001b[0m \u001b[0;36m12\u001b[0m\u001b[0;34m:\u001b[0m\u001b[0;34m\u001b[0m\u001b[0;34m\u001b[0m\u001b[0m\n\u001b[0;32m----> 4\u001b[0;31m     \u001b[0;32mraise\u001b[0m \u001b[0mValueError\u001b[0m\u001b[0;34m(\u001b[0m\u001b[0;34m'Invalid Month Value'\u001b[0m\u001b[0;34m)\u001b[0m\u001b[0;34m\u001b[0m\u001b[0;34m\u001b[0m\u001b[0m\n\u001b[0m\u001b[1;32m      5\u001b[0m   \u001b[0;32mreturn\u001b[0m \u001b[0mmonth\u001b[0m\u001b[0;34m\u001b[0m\u001b[0;34m\u001b[0m\u001b[0m\n\u001b[1;32m      6\u001b[0m \u001b[0;34m\u001b[0m\u001b[0m\n",
            "\u001b[0;31mValueError\u001b[0m: Invalid Month Value"
          ]
        }
      ]
    },
    {
      "cell_type": "markdown",
      "source": [],
      "metadata": {
        "id": "cpYe5K_SmkAM"
      }
    },
    {
      "cell_type": "code",
      "source": [],
      "metadata": {
        "id": "anwKBiQDmjQU"
      },
      "execution_count": null,
      "outputs": []
    }
  ]
}